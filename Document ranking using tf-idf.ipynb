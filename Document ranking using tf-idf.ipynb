{
 "cells": [
  {
   "cell_type": "code",
   "execution_count": 1,
   "metadata": {},
   "outputs": [],
   "source": [
    "import nltk\n",
    "import os\n",
    "import numpy as np\n",
    "import re\n",
    "from nltk.corpus import stopwords\n",
    "from nltk import word_tokenize\n",
    "from collections import Counter"
   ]
  },
  {
   "cell_type": "code",
   "execution_count": 2,
   "metadata": {},
   "outputs": [],
   "source": [
    "# Extracting data\n",
    "dataset=[]\n",
    "for (root,dirs,files) in os.walk(str(os.getcwd()+'\\\\'+'stories'),topdown=True):\n",
    "    for filename in files:\n",
    "        if 'html' not in filename:\n",
    "            dataset.append((root+\"\\\\\"+filename,filename))"
   ]
  },
  {
   "cell_type": "markdown",
   "metadata": {},
   "source": [
    "### Preprocessing"
   ]
  },
  {
   "cell_type": "code",
   "execution_count": 3,
   "metadata": {},
   "outputs": [],
   "source": [
    "# conversion to lowercase\n",
    "# removal of punctuation marks\n",
    "# removal of stopwords\n",
    "# stemming or lemmatization"
   ]
  },
  {
   "cell_type": "code",
   "execution_count": 4,
   "metadata": {},
   "outputs": [],
   "source": [
    "# conversion to lowercase\n",
    "def convertToLower(data):\n",
    "    return data.lower()"
   ]
  },
  {
   "cell_type": "code",
   "execution_count": 5,
   "metadata": {},
   "outputs": [],
   "source": [
    "#removal of punctuation marks\n",
    "def removePunctuation(data):\n",
    "    symbols=\"!\\\"#$%&()*+-./:;<=>?@[\\]^_`{|}~\\n,\"\n",
    "    for i in symbols:\n",
    "        data=data.replace(i,\" \")\n",
    "        data=data.replace(\"  \",\" \")\n",
    "    data=data.replace(\"'\",\"\")\n",
    "    return data"
   ]
  },
  {
   "cell_type": "code",
   "execution_count": 6,
   "metadata": {},
   "outputs": [],
   "source": [
    "# removal of stopwords \n",
    "def removeStopWords(data):\n",
    "    stopWords=stopwords.words('english')\n",
    "    words=word_tokenize(data)\n",
    "    newData=\"\"\n",
    "    for w in words:\n",
    "        if w not in stopWords and len(w)>1:\n",
    "            newData+=w+\" \"\n",
    "    return newData"
   ]
  },
  {
   "cell_type": "code",
   "execution_count": 7,
   "metadata": {},
   "outputs": [],
   "source": [
    "#stemming\n",
    "def stemming(data):\n",
    "    stemmer=nltk.PorterStemmer()\n",
    "    \n",
    "    tokens = word_tokenize(str(data))\n",
    "    new_text = \"\"\n",
    "    for w in tokens:\n",
    "        new_text = new_text + \" \" + stemmer.stem(w)\n",
    "    return new_text"
   ]
  },
  {
   "cell_type": "code",
   "execution_count": 8,
   "metadata": {},
   "outputs": [],
   "source": [
    "# preprocess data\n",
    "def preprocess(data):\n",
    "    data=convertToLower(data)\n",
    "    \n",
    "    data = removePunctuation(data)\n",
    "    data = removeStopWords(data)\n",
    "    data=stemming(data)\n",
    "    return data"
   ]
  },
  {
   "cell_type": "code",
   "execution_count": 9,
   "metadata": {},
   "outputs": [],
   "source": [
    "# Extracting and preprocessing data\n",
    "preprocessedData=[]\n",
    "for (filePath,name) in dataset:\n",
    "    file=open(filePath,'r',encoding='utf-8',errors='ignore')\n",
    "    text=file.read().strip()\n",
    "    file.close()\n",
    "    preprocessedData.append((word_tokenize(str(preprocess(text))),name))"
   ]
  },
  {
   "cell_type": "code",
   "execution_count": 10,
   "metadata": {},
   "outputs": [],
   "source": [
    "# Calculating Document Frequency(DF)\n",
    "DF = {}\n",
    "\n",
    "for i in range(len(dataset)):\n",
    "    tokens = preprocessedData[i][0]\n",
    "    for w in tokens:\n",
    "        try:\n",
    "            DF[w].add(i)\n",
    "        except:\n",
    "            DF[w] = {i}\n",
    "for i in DF:\n",
    "    DF[i] = len(DF[i])"
   ]
  },
  {
   "cell_type": "markdown",
   "metadata": {},
   "source": [
    "### TF-IDF"
   ]
  },
  {
   "cell_type": "code",
   "execution_count": 11,
   "metadata": {},
   "outputs": [],
   "source": [
    "doc = 0\n",
    "tf_idf = {}\n",
    "docIndexing=[]\n",
    "for i in range(len(dataset)):\n",
    "    tokens = preprocessedData[i][0]\n",
    "    docIndexing.append((doc,preprocessedData[i][1]))\n",
    "    counter = Counter(tokens)\n",
    "    words_count = len(tokens)\n",
    "    \n",
    "    for token in set(tokens):\n",
    "        \n",
    "        tf = counter[token]/words_count\n",
    "        df = 0\n",
    "        try:\n",
    "            df=DF[token]\n",
    "        except:\n",
    "            pass\n",
    "        idf = np.log((len(dataset))/(df+1))\n",
    "        \n",
    "        tf_idf[doc, token] = tf*idf\n",
    "    doc += 1"
   ]
  },
  {
   "cell_type": "markdown",
   "metadata": {},
   "source": [
    "### Document Ranking"
   ]
  },
  {
   "cell_type": "code",
   "execution_count": 12,
   "metadata": {},
   "outputs": [],
   "source": [
    "def findTopDocs(k, query):\n",
    "    print('query:')\n",
    "    preprocessedQuery = preprocess(query)\n",
    "    tokens = word_tokenize(str(preprocessedQuery))\n",
    "    queryWeights = {}\n",
    "    for key in tf_idf:\n",
    "        if key[1] in tokens:\n",
    "            try:\n",
    "                queryWeights[key[0]] += tf_idf[key]\n",
    "            except:\n",
    "                queryWeights[key[0]] = tf_idf[key]\n",
    "    \n",
    "    queryWeights=sorted(queryWeights.items(), key=lambda x:x[1], reverse=True)\n",
    "    topDocs=[]\n",
    "    for i in queryWeights[:k]:\n",
    "        topDocs.append(docIndexing[i[0]][1])\n",
    "    print(topDocs)"
   ]
  },
  {
   "cell_type": "markdown",
   "metadata": {},
   "source": [
    "### Queries"
   ]
  },
  {
   "cell_type": "code",
   "execution_count": 13,
   "metadata": {},
   "outputs": [
    {
     "name": "stdout",
     "output_type": "stream",
     "text": [
      "query:\n",
      "['buldream.txt', 'buldetal.txt', 'bulironb.txt']\n"
     ]
    }
   ],
   "source": [
    "findTopDocs(3,\"What a rotten place!\")"
   ]
  },
  {
   "cell_type": "code",
   "execution_count": 14,
   "metadata": {},
   "outputs": [
    {
     "name": "stdout",
     "output_type": "stream",
     "text": [
      "query:\n",
      "['buggy.txt', 'bulfelis.txt', 'bulhuntr.txt', 'breaks2.asc']\n"
     ]
    }
   ],
   "source": [
    "findTopDocs(4,\"I was glad to be home.\")"
   ]
  },
  {
   "cell_type": "code",
   "execution_count": 15,
   "metadata": {},
   "outputs": [
    {
     "name": "stdout",
     "output_type": "stream",
     "text": [
      "query:\n",
      "['bruce-p.txt', 'bulhuntr.txt', 'buldream.txt']\n"
     ]
    }
   ],
   "source": [
    "findTopDocs(3,\"Must see you over Cadogan West. Coming at once. MYCROFT.\")"
   ]
  }
 ],
 "metadata": {
  "kernelspec": {
   "display_name": "Python 3",
   "language": "python",
   "name": "python3"
  },
  "language_info": {
   "codemirror_mode": {
    "name": "ipython",
    "version": 3
   },
   "file_extension": ".py",
   "mimetype": "text/x-python",
   "name": "python",
   "nbconvert_exporter": "python",
   "pygments_lexer": "ipython3",
   "version": "3.7.3"
  }
 },
 "nbformat": 4,
 "nbformat_minor": 2
}
